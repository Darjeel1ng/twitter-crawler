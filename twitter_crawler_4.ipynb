{
  "cells": [
    {
      "cell_type": "markdown",
      "metadata": {
        "id": "view-in-github",
        "colab_type": "text"
      },
      "source": [
        "<a href=\"https://colab.research.google.com/github/Darjeel1ng/twitter-crawler/blob/main/twitter_crawler_4.ipynb\" target=\"_parent\"><img src=\"https://colab.research.google.com/assets/colab-badge.svg\" alt=\"Open In Colab\"/></a>"
      ]
    },
    {
      "cell_type": "markdown",
      "metadata": {
        "id": "gsAlth0vLgzl"
      },
      "source": [
        "# 0 Setup"
      ]
    },
    {
      "cell_type": "code",
      "execution_count": null,
      "metadata": {
        "colab": {
          "base_uri": "https://localhost:8080/"
        },
        "id": "XMea2ry86-ru",
        "outputId": "58177c6a-ea62-4dd7-f9fa-b78d0a08e630"
      },
      "outputs": [
        {
          "output_type": "stream",
          "name": "stdout",
          "text": [
            "Mounted at /content/gdrive\n"
          ]
        }
      ],
      "source": [
        "from google.colab import drive\n",
        "drive.mount('/content/gdrive')"
      ]
    },
    {
      "cell_type": "code",
      "execution_count": null,
      "metadata": {
        "colab": {
          "base_uri": "https://localhost:8080/"
        },
        "id": "XySx6dNL7PLr",
        "outputId": "c9f601bb-7d8a-4943-8f16-b4d194e23166"
      },
      "outputs": [
        {
          "output_type": "stream",
          "name": "stdout",
          "text": [
            "/content/gdrive/MyDrive/COMP-440/COMP 440 S23: DEN/Emoji_Prediction\n",
            "bilstm_model  code  data\n"
          ]
        }
      ],
      "source": [
        "%cd gdrive/MyDrive/COMP-440/COMP 440 S23: DEN/Emoji_Prediction\n",
        "!ls"
      ]
    },
    {
      "cell_type": "code",
      "execution_count": null,
      "metadata": {
        "colab": {
          "base_uri": "https://localhost:8080/"
        },
        "id": "fGcTjG-GxuHk",
        "outputId": "a82999a8-4901-499c-df7a-43c8d71ab020"
      },
      "outputs": [
        {
          "output_type": "stream",
          "name": "stdout",
          "text": [
            "Looking in indexes: https://pypi.org/simple, https://us-python.pkg.dev/colab-wheels/public/simple/\n",
            "Collecting snscrape\n",
            "  Downloading snscrape-0.6.2.20230320-py3-none-any.whl (71 kB)\n",
            "\u001b[2K     \u001b[90m━━━━━━━━━━━━━━━━━━━━━━━━━━━━━━━━━━━━━━━━\u001b[0m \u001b[32m71.8/71.8 KB\u001b[0m \u001b[31m2.8 MB/s\u001b[0m eta \u001b[36m0:00:00\u001b[0m\n",
            "\u001b[?25hRequirement already satisfied: lxml in /usr/local/lib/python3.9/dist-packages (from snscrape) (4.9.2)\n",
            "Requirement already satisfied: requests[socks] in /usr/local/lib/python3.9/dist-packages (from snscrape) (2.27.1)\n",
            "Requirement already satisfied: filelock in /usr/local/lib/python3.9/dist-packages (from snscrape) (3.10.7)\n",
            "Requirement already satisfied: beautifulsoup4 in /usr/local/lib/python3.9/dist-packages (from snscrape) (4.11.2)\n",
            "Requirement already satisfied: soupsieve>1.2 in /usr/local/lib/python3.9/dist-packages (from beautifulsoup4->snscrape) (2.4)\n",
            "Requirement already satisfied: urllib3<1.27,>=1.21.1 in /usr/local/lib/python3.9/dist-packages (from requests[socks]->snscrape) (1.26.15)\n",
            "Requirement already satisfied: charset-normalizer~=2.0.0 in /usr/local/lib/python3.9/dist-packages (from requests[socks]->snscrape) (2.0.12)\n",
            "Requirement already satisfied: certifi>=2017.4.17 in /usr/local/lib/python3.9/dist-packages (from requests[socks]->snscrape) (2022.12.7)\n",
            "Requirement already satisfied: idna<4,>=2.5 in /usr/local/lib/python3.9/dist-packages (from requests[socks]->snscrape) (3.4)\n",
            "Requirement already satisfied: PySocks!=1.5.7,>=1.5.6 in /usr/local/lib/python3.9/dist-packages (from requests[socks]->snscrape) (1.7.1)\n",
            "Installing collected packages: snscrape\n",
            "Successfully installed snscrape-0.6.2.20230320\n",
            "Looking in indexes: https://pypi.org/simple, https://us-python.pkg.dev/colab-wheels/public/simple/\n",
            "Collecting emoji\n",
            "  Downloading emoji-2.2.0.tar.gz (240 kB)\n",
            "\u001b[2K     \u001b[90m━━━━━━━━━━━━━━━━━━━━━━━━━━━━━━━━━━━━━━━\u001b[0m \u001b[32m240.9/240.9 KB\u001b[0m \u001b[31m5.8 MB/s\u001b[0m eta \u001b[36m0:00:00\u001b[0m\n",
            "\u001b[?25h  Preparing metadata (setup.py) ... \u001b[?25l\u001b[?25hdone\n",
            "Building wheels for collected packages: emoji\n",
            "  Building wheel for emoji (setup.py) ... \u001b[?25l\u001b[?25hdone\n",
            "  Created wheel for emoji: filename=emoji-2.2.0-py3-none-any.whl size=234926 sha256=7d0c2b844a9678025046e241b8727314fd159a09f0f27da1d013c5b0cefe428c\n",
            "  Stored in directory: /root/.cache/pip/wheels/9a/b8/0f/f580817231cbf59f6ade9fd132ff60ada1de9f7dc85521f857\n",
            "Successfully built emoji\n",
            "Installing collected packages: emoji\n",
            "Successfully installed emoji-2.2.0\n",
            "Looking in indexes: https://pypi.org/simple, https://us-python.pkg.dev/colab-wheels/public/simple/\n",
            "Collecting pycld3\n",
            "  Downloading pycld3-0.22-cp39-cp39-manylinux1_x86_64.whl (13.6 MB)\n",
            "\u001b[2K     \u001b[90m━━━━━━━━━━━━━━━━━━━━━━━━━━━━━━━━━━━━━━━━\u001b[0m \u001b[32m13.6/13.6 MB\u001b[0m \u001b[31m56.7 MB/s\u001b[0m eta \u001b[36m0:00:00\u001b[0m\n",
            "\u001b[?25hInstalling collected packages: pycld3\n",
            "Successfully installed pycld3-0.22\n"
          ]
        }
      ],
      "source": [
        "!pip install snscrape\n",
        "!pip install emoji\n",
        "!pip install pycld3"
      ]
    },
    {
      "cell_type": "code",
      "execution_count": null,
      "metadata": {
        "id": "xetisq5wczof"
      },
      "outputs": [],
      "source": [
        "import pandas as pd\n",
        "import re\n",
        "import time\n",
        "import datetime\n",
        "from google.colab import files\n",
        "\n",
        "import emoji\n",
        "import cld3\n",
        "import snscrape.modules.twitter as sntwitter"
      ]
    },
    {
      "cell_type": "code",
      "execution_count": null,
      "metadata": {
        "id": "GwfJPuZ3cylV"
      },
      "outputs": [],
      "source": [
        "pd.set_option('display.max_colwidth', 255)"
      ]
    },
    {
      "cell_type": "markdown",
      "metadata": {
        "id": "wWqTIi6BLjwp"
      },
      "source": [
        "# 1 Crawler"
      ]
    },
    {
      "cell_type": "code",
      "execution_count": null,
      "metadata": {
        "id": "xjxXZ-JTJpN_"
      },
      "outputs": [],
      "source": [
        "def text_has_emoji(text):\n",
        "  for character in text:\n",
        "    if character in emoji.EMOJI_DATA:\n",
        "      return True\n",
        "  return False"
      ]
    },
    {
      "cell_type": "code",
      "execution_count": null,
      "metadata": {
        "id": "pQR8LqTjZau-"
      },
      "outputs": [],
      "source": [
        "def get_emoji_data(query, limit, print_interval, save_interval):\n",
        "\n",
        "  tweets = []\n",
        "  prev_len = 0\n",
        "\n",
        "  for tweet in sntwitter.TwitterSearchScraper(query).get_items():\n",
        "\n",
        "    # print(vars(tweet))\n",
        "    # break\n",
        "\n",
        "    # Monitor\n",
        "    if len(tweets) == 0:\n",
        "      start_time = time.time()\n",
        "    if prev_len != len(tweets): \n",
        "      prev_len = len(tweets)\n",
        "      if len(tweets) % print_interval == 0:\n",
        "        end_time = time.time()\n",
        "        delta_time = end_time - start_time\n",
        "        print_time = str(datetime.timedelta(seconds=round(delta_time, 0)))\n",
        "        print(f'{len(tweets)}/{limit} - {print_time}')\n",
        "\n",
        "      # Write csv\n",
        "      if len(tweets) % save_interval == 0:\n",
        "        emoji_data = pd.DataFrame(tweets, columns=['Text'])\n",
        "        file_name = re.search(r':(.*):', emoji.EMOJI_DATA[query]['en']).group(1)\n",
        "        emoji_data.to_csv(f'data/emoji/{file_name}.csv', index=False)\n",
        "        print(f'Successfully saved in {file_name}.csv')\n",
        "    \n",
        "    # Crawler\n",
        "    if len(tweets) == limit:\n",
        "      print(f'{query} done!\\n')\n",
        "      break\n",
        "    else:\n",
        "      text = tweet.rawContent\n",
        "      if text_has_emoji(text): # Get text that has emoji\n",
        "        if cld3.get_language(text).language == 'en': # Get text that is in English\n",
        "          tweets.append(text)\n"
      ]
    },
    {
      "cell_type": "code",
      "execution_count": null,
      "metadata": {
        "id": "pRjvpm4eglcs"
      },
      "outputs": [],
      "source": [
        "run_emoji_list = [\n",
        "    '😭', '😂', '❤️', '✨', '🙏', '😍', '🥰', '☺️', '👍', '😅', '😡', '😨', \n",
        "    '🥳', '🥵', '😤', '🤔', '🥲', '🤡', '🫡', '🔥', '🐰', '✅', '🫠', '🐣', \n",
        "    '🎉', '🥚', '⭐', '🤍', '👉', '😉', '🐇']"
      ]
    },
    {
      "cell_type": "code",
      "execution_count": null,
      "metadata": {
        "colab": {
          "base_uri": "https://localhost:8080/"
        },
        "id": "vKvA2WGi94-q",
        "outputId": "c0262b35-e032-463a-f2d3-41d418cda8bb"
      },
      "outputs": [
        {
          "output_type": "stream",
          "name": "stdout",
          "text": [
            "1000/20000 - 0:07:49\n"
          ]
        },
        {
          "output_type": "stream",
          "name": "stderr",
          "text": [
            "WARNING:snscrape.modules.twitter:Tweet 1644717987663065095 contains an app icon medium key '4_1644845962802745347' on app 'android_app'/'com.aniplex.twst.jp', but the corresponding medium is missing; dropping\n"
          ]
        },
        {
          "output_type": "stream",
          "name": "stdout",
          "text": [
            "2000/20000 - 0:14:53\n",
            "Successfully saved in party_popper.csv\n"
          ]
        },
        {
          "output_type": "stream",
          "name": "stderr",
          "text": [
            "WARNING:snscrape.modules.twitter:Tweet 1644717987663065095 contains an app icon medium key '4_1644845962802745347' on app 'android_app'/'com.aniplex.twst.jp', but the corresponding medium is missing; dropping\n",
            "WARNING:snscrape.modules.twitter:Tweet 1644717987663065095 contains an app icon medium key '4_1644845962802745347' on app 'android_app'/'com.aniplex.twst.jp', but the corresponding medium is missing; dropping\n"
          ]
        },
        {
          "output_type": "stream",
          "name": "stdout",
          "text": [
            "3000/20000 - 0:24:59\n"
          ]
        },
        {
          "output_type": "stream",
          "name": "stderr",
          "text": [
            "WARNING:snscrape.modules.twitter:Tweet 1644717987663065095 contains an app icon medium key '4_1644845962802745347' on app 'android_app'/'com.aniplex.twst.jp', but the corresponding medium is missing; dropping\n"
          ]
        },
        {
          "output_type": "stream",
          "name": "stdout",
          "text": [
            "4000/20000 - 0:33:32\n",
            "Successfully saved in party_popper.csv\n"
          ]
        },
        {
          "output_type": "stream",
          "name": "stderr",
          "text": [
            "WARNING:snscrape.modules.twitter:Tweet 1644717987663065095 contains an app icon medium key '4_1644845962802745347' on app 'android_app'/'com.aniplex.twst.jp', but the corresponding medium is missing; dropping\n",
            "WARNING:snscrape.modules.twitter:Tweet 1644717987663065095 contains an app icon medium key '4_1644845962802745347' on app 'android_app'/'com.aniplex.twst.jp', but the corresponding medium is missing; dropping\n"
          ]
        },
        {
          "output_type": "stream",
          "name": "stdout",
          "text": [
            "5000/20000 - 0:41:50\n",
            "6000/20000 - 0:48:14\n",
            "Successfully saved in party_popper.csv\n",
            "7000/20000 - 0:52:58\n"
          ]
        },
        {
          "output_type": "stream",
          "name": "stderr",
          "text": [
            "WARNING:snscrape.modules.twitter:Tweet 1643780566939209728 contains an app icon medium key '4_1644675461761613829' on app 'android_app'/'jp.co.gu3.orange01', but the corresponding medium is missing; dropping\n",
            "WARNING:snscrape.modules.twitter:Tweet 1643780566939209728 contains an app icon medium key '4_1644674548455944192' on app 'iphone_app'/'993529737', but the corresponding medium is missing; dropping\n",
            "WARNING:snscrape.modules.twitter:Tweet 1643780566939209728 contains an app icon medium key '4_1644674548455944192' on app 'ipad_app'/'993529737', but the corresponding medium is missing; dropping\n"
          ]
        },
        {
          "output_type": "stream",
          "name": "stdout",
          "text": [
            "8000/20000 - 0:57:01\n",
            "Successfully saved in party_popper.csv\n",
            "9000/20000 - 1:00:58\n"
          ]
        }
      ],
      "source": [
        "for e in run_emoji_list[24:31]:\n",
        "  get_emoji_data(e, 20000, 1000, 2000)"
      ]
    },
    {
      "cell_type": "code",
      "execution_count": null,
      "metadata": {
        "id": "gAxIsmnvQ2zg"
      },
      "outputs": [],
      "source": [
        "emoji_finished = {\n",
        "    '😭': '',\n",
        "    '😂': '',\n",
        "    '🥹': '1:40:22',\n",
        "    '🤡': '1:15:13', \n",
        "    '💀': '0:48:37',\n",
        "    '✔️': '2:09:08', \n",
        "    '🤣': '1:28:05', \n",
        "    '😋': '3:09:04',\n",
        "    '👀': '1:02:36',\n",
        "    '💩': '1:24:12'\n",
        "}"
      ]
    },
    {
      "cell_type": "markdown",
      "metadata": {
        "id": "JVaH894gygjD"
      },
      "source": [
        "# Resources"
      ]
    },
    {
      "cell_type": "markdown",
      "metadata": {
        "id": "t58uFIavTwto"
      },
      "source": [
        "1. Detect if a string is English: [The WiLI benchmark dataset for written\n",
        "language identification](https://arxiv.org/pdf/1801.07779.pdf)\n",
        "2. Twitter crawler: [youtube](https://www.youtube.com/watch?v=jtIMnmbnOFo)\n",
        "3. Emoji frequency: [emojipedia stats](https://emojipedia.org/stats/)\n",
        "4. Emoji API: [documentation](https://carpedm20.github.io/emoji/docs/api.html#emoji.EMOJI_DATA)"
      ]
    }
  ],
  "metadata": {
    "colab": {
      "provenance": [],
      "include_colab_link": true
    },
    "kernelspec": {
      "display_name": "Python 3",
      "name": "python3"
    },
    "language_info": {
      "name": "python"
    }
  },
  "nbformat": 4,
  "nbformat_minor": 0
}