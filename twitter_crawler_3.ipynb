{
  "nbformat": 4,
  "nbformat_minor": 0,
  "metadata": {
    "colab": {
      "provenance": [],
      "include_colab_link": true
    },
    "kernelspec": {
      "name": "python3",
      "display_name": "Python 3"
    },
    "language_info": {
      "name": "python"
    }
  },
  "cells": [
    {
      "cell_type": "markdown",
      "metadata": {
        "id": "view-in-github",
        "colab_type": "text"
      },
      "source": [
        "<a href=\"https://colab.research.google.com/github/Darjeel1ng/twitter-crawler/blob/main/twitter_crawler_3.ipynb\" target=\"_parent\"><img src=\"https://colab.research.google.com/assets/colab-badge.svg\" alt=\"Open In Colab\"/></a>"
      ]
    },
    {
      "cell_type": "markdown",
      "source": [
        "# 0 Setup"
      ],
      "metadata": {
        "id": "gsAlth0vLgzl"
      }
    },
    {
      "cell_type": "code",
      "source": [
        "from google.colab import drive\n",
        "drive.mount('/content/gdrive')"
      ],
      "metadata": {
        "colab": {
          "base_uri": "https://localhost:8080/"
        },
        "id": "XMea2ry86-ru",
        "outputId": "ee8cac7d-18da-41d3-a5ea-f843e75ebd71"
      },
      "execution_count": null,
      "outputs": [
        {
          "output_type": "stream",
          "name": "stdout",
          "text": [
            "Mounted at /content/gdrive\n"
          ]
        }
      ]
    },
    {
      "cell_type": "code",
      "source": [
        "%cd gdrive/MyDrive/COMP-440/COMP 440 S23: DEN/Emoji_Prediction\n",
        "!ls"
      ],
      "metadata": {
        "colab": {
          "base_uri": "https://localhost:8080/"
        },
        "id": "XySx6dNL7PLr",
        "outputId": "e950031a-ec35-4bf9-e557-c5b55f53501e"
      },
      "execution_count": null,
      "outputs": [
        {
          "output_type": "stream",
          "name": "stdout",
          "text": [
            "/content/gdrive/MyDrive/COMP-440/COMP 440 S23: DEN/Emoji_Prediction\n",
            "bilstm_model  code  data\n"
          ]
        }
      ]
    },
    {
      "cell_type": "code",
      "execution_count": null,
      "metadata": {
        "colab": {
          "base_uri": "https://localhost:8080/"
        },
        "id": "fGcTjG-GxuHk",
        "outputId": "8fe36874-0f82-42d3-b154-e3c3e91a9bf4"
      },
      "outputs": [
        {
          "output_type": "stream",
          "name": "stdout",
          "text": [
            "Looking in indexes: https://pypi.org/simple, https://us-python.pkg.dev/colab-wheels/public/simple/\n",
            "Collecting snscrape\n",
            "  Downloading snscrape-0.6.2.20230320-py3-none-any.whl (71 kB)\n",
            "\u001b[2K     \u001b[90m━━━━━━━━━━━━━━━━━━━━━━━━━━━━━━━━━━━━━━━━\u001b[0m \u001b[32m71.8/71.8 KB\u001b[0m \u001b[31m2.1 MB/s\u001b[0m eta \u001b[36m0:00:00\u001b[0m\n",
            "\u001b[?25hRequirement already satisfied: lxml in /usr/local/lib/python3.9/dist-packages (from snscrape) (4.9.2)\n",
            "Requirement already satisfied: beautifulsoup4 in /usr/local/lib/python3.9/dist-packages (from snscrape) (4.11.2)\n",
            "Requirement already satisfied: requests[socks] in /usr/local/lib/python3.9/dist-packages (from snscrape) (2.27.1)\n",
            "Requirement already satisfied: filelock in /usr/local/lib/python3.9/dist-packages (from snscrape) (3.10.7)\n",
            "Requirement already satisfied: soupsieve>1.2 in /usr/local/lib/python3.9/dist-packages (from beautifulsoup4->snscrape) (2.4)\n",
            "Requirement already satisfied: urllib3<1.27,>=1.21.1 in /usr/local/lib/python3.9/dist-packages (from requests[socks]->snscrape) (1.26.15)\n",
            "Requirement already satisfied: idna<4,>=2.5 in /usr/local/lib/python3.9/dist-packages (from requests[socks]->snscrape) (3.4)\n",
            "Requirement already satisfied: certifi>=2017.4.17 in /usr/local/lib/python3.9/dist-packages (from requests[socks]->snscrape) (2022.12.7)\n",
            "Requirement already satisfied: charset-normalizer~=2.0.0 in /usr/local/lib/python3.9/dist-packages (from requests[socks]->snscrape) (2.0.12)\n",
            "Requirement already satisfied: PySocks!=1.5.7,>=1.5.6 in /usr/local/lib/python3.9/dist-packages (from requests[socks]->snscrape) (1.7.1)\n",
            "Installing collected packages: snscrape\n",
            "Successfully installed snscrape-0.6.2.20230320\n",
            "Looking in indexes: https://pypi.org/simple, https://us-python.pkg.dev/colab-wheels/public/simple/\n",
            "Collecting emoji\n",
            "  Downloading emoji-2.2.0.tar.gz (240 kB)\n",
            "\u001b[2K     \u001b[90m━━━━━━━━━━━━━━━━━━━━━━━━━━━━━━━━━━━━━━━\u001b[0m \u001b[32m240.9/240.9 KB\u001b[0m \u001b[31m3.6 MB/s\u001b[0m eta \u001b[36m0:00:00\u001b[0m\n",
            "\u001b[?25h  Preparing metadata (setup.py) ... \u001b[?25l\u001b[?25hdone\n",
            "Building wheels for collected packages: emoji\n",
            "  Building wheel for emoji (setup.py) ... \u001b[?25l\u001b[?25hdone\n",
            "  Created wheel for emoji: filename=emoji-2.2.0-py3-none-any.whl size=234926 sha256=f003e95882504c96b6784150f5fdd583e9497e45293275e87e5b1d32412c7961\n",
            "  Stored in directory: /root/.cache/pip/wheels/9a/b8/0f/f580817231cbf59f6ade9fd132ff60ada1de9f7dc85521f857\n",
            "Successfully built emoji\n",
            "Installing collected packages: emoji\n",
            "Successfully installed emoji-2.2.0\n",
            "Looking in indexes: https://pypi.org/simple, https://us-python.pkg.dev/colab-wheels/public/simple/\n",
            "Collecting pycld3\n",
            "  Downloading pycld3-0.22-cp39-cp39-manylinux1_x86_64.whl (13.6 MB)\n",
            "\u001b[2K     \u001b[90m━━━━━━━━━━━━━━━━━━━━━━━━━━━━━━━━━━━━━━━━\u001b[0m \u001b[32m13.6/13.6 MB\u001b[0m \u001b[31m85.4 MB/s\u001b[0m eta \u001b[36m0:00:00\u001b[0m\n",
            "\u001b[?25hInstalling collected packages: pycld3\n",
            "Successfully installed pycld3-0.22\n"
          ]
        }
      ],
      "source": [
        "!pip install snscrape\n",
        "!pip install emoji\n",
        "!pip install pycld3"
      ]
    },
    {
      "cell_type": "code",
      "source": [
        "import pandas as pd\n",
        "import re\n",
        "import time\n",
        "import datetime\n",
        "from google.colab import files\n",
        "\n",
        "import emoji\n",
        "import cld3\n",
        "import snscrape.modules.twitter as sntwitter"
      ],
      "metadata": {
        "id": "xetisq5wczof"
      },
      "execution_count": null,
      "outputs": []
    },
    {
      "cell_type": "code",
      "source": [
        "pd.set_option('display.max_colwidth', 255)"
      ],
      "metadata": {
        "id": "GwfJPuZ3cylV"
      },
      "execution_count": null,
      "outputs": []
    },
    {
      "cell_type": "markdown",
      "source": [
        "# 1 Crawler"
      ],
      "metadata": {
        "id": "wWqTIi6BLjwp"
      }
    },
    {
      "cell_type": "code",
      "source": [
        "def text_has_emoji(text):\n",
        "  for character in text:\n",
        "    if character in emoji.EMOJI_DATA:\n",
        "      return True\n",
        "  return False"
      ],
      "metadata": {
        "id": "xjxXZ-JTJpN_"
      },
      "execution_count": null,
      "outputs": []
    },
    {
      "cell_type": "code",
      "source": [
        "def get_emoji_data(query, limit, print_interval, save_interval):\n",
        "\n",
        "  tweets = []\n",
        "  prev_len = 0\n",
        "\n",
        "  for tweet in sntwitter.TwitterSearchScraper(query).get_items():\n",
        "\n",
        "    # print(vars(tweet))\n",
        "    # break\n",
        "\n",
        "    # Monitor\n",
        "    if len(tweets) == 0:\n",
        "      start_time = time.time()\n",
        "    if prev_len != len(tweets): \n",
        "      prev_len = len(tweets)\n",
        "      if len(tweets) % print_interval == 0:\n",
        "        end_time = time.time()\n",
        "        delta_time = end_time - start_time\n",
        "        print_time = str(datetime.timedelta(seconds=round(delta_time, 0)))\n",
        "        print(f'{len(tweets)}/{limit} - {print_time}')\n",
        "\n",
        "      # Write csv\n",
        "      if len(tweets) % save_interval == 0:\n",
        "        emoji_data = pd.DataFrame(tweets, columns=['Text'])\n",
        "        file_name = re.search(r':(.*):', emoji.EMOJI_DATA[query]['en']).group(1)\n",
        "        emoji_data.to_csv(f'data/emoji/{file_name}.csv', index=False)\n",
        "        print(f'Successfully saved in {file_name}.csv')\n",
        "    \n",
        "    # Crawler\n",
        "    if len(tweets) == limit:\n",
        "      print(f'{query} done!\\n')\n",
        "      break\n",
        "    else:\n",
        "      text = tweet.rawContent\n",
        "      if text_has_emoji(text): # Get text that has emoji\n",
        "        if cld3.get_language(text).language == 'en': # Get text that is in English\n",
        "          tweets.append(text)\n"
      ],
      "metadata": {
        "id": "pQR8LqTjZau-"
      },
      "execution_count": null,
      "outputs": []
    },
    {
      "cell_type": "code",
      "source": [
        "run_emoji_list = [\n",
        "    '😭', '😂', '❤️', '✨', '🙏', '😍', '🥰', '☺️', '👍', '😅', '😡', '😨', \n",
        "    '🥳', '🥵', '😤', '🤔', '🥲', '🤡', '🫡', '🔥', '🐰', '✅', '🫠', '🐣', \n",
        "    '🎉', '🥚', '⭐', '🤍', '👉', '😉', '🐇']"
      ],
      "metadata": {
        "id": "pRjvpm4eglcs"
      },
      "execution_count": null,
      "outputs": []
    },
    {
      "cell_type": "code",
      "source": [
        "for e in run_emoji_list[16:24]:\n",
        "  get_emoji_data(e, 20000, 1000, 2000)"
      ],
      "metadata": {
        "id": "vKvA2WGi94-q",
        "colab": {
          "base_uri": "https://localhost:8080/"
        },
        "outputId": "17c9596e-19bc-4c2c-a59d-3002eb03779a"
      },
      "execution_count": null,
      "outputs": [
        {
          "output_type": "stream",
          "name": "stdout",
          "text": [
            "1000/20000 - 0:07:33\n",
            "2000/20000 - 0:15:03\n",
            "Successfully saved in smiling_face_with_tear.csv\n",
            "3000/20000 - 0:22:09\n",
            "4000/20000 - 0:29:16\n",
            "Successfully saved in smiling_face_with_tear.csv\n",
            "5000/20000 - 0:35:32\n",
            "6000/20000 - 0:41:21\n",
            "Successfully saved in smiling_face_with_tear.csv\n",
            "7000/20000 - 0:46:20\n",
            "8000/20000 - 0:50:43\n",
            "Successfully saved in smiling_face_with_tear.csv\n",
            "9000/20000 - 0:54:39\n",
            "10000/20000 - 0:58:38\n",
            "Successfully saved in smiling_face_with_tear.csv\n",
            "11000/20000 - 1:02:21\n"
          ]
        }
      ]
    },
    {
      "cell_type": "code",
      "source": [
        "emoji_finished = {\n",
        "    '🥹': '1:40:22',\n",
        "    '🤡': '1:15:13', \n",
        "    '💀': '0:48:37',\n",
        "    '✔️': '2:09:08', \n",
        "    '🤣': '1:28:05', \n",
        "    '😋': '3:09:04',\n",
        "    '👀': '1:02:36',\n",
        "    '💩': '1:24:12'\n",
        "}"
      ],
      "metadata": {
        "id": "gAxIsmnvQ2zg"
      },
      "execution_count": null,
      "outputs": []
    },
    {
      "cell_type": "markdown",
      "source": [
        "# Resources"
      ],
      "metadata": {
        "id": "JVaH894gygjD"
      }
    },
    {
      "cell_type": "markdown",
      "source": [
        "1. Detect if a string is English: [The WiLI benchmark dataset for written\n",
        "language identification](https://arxiv.org/pdf/1801.07779.pdf)\n",
        "2. Twitter crawler: [youtube](https://www.youtube.com/watch?v=jtIMnmbnOFo)\n",
        "3. Emoji frequency: [emojipedia stats](https://emojipedia.org/stats/)\n",
        "4. Emoji API: [documentation](https://carpedm20.github.io/emoji/docs/api.html#emoji.EMOJI_DATA)"
      ],
      "metadata": {
        "id": "t58uFIavTwto"
      }
    }
  ]
}